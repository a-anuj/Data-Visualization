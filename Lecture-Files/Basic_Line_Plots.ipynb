{
 "cells": [
  {
   "cell_type": "markdown",
   "metadata": {},
   "source": [
    "# Basic Line Plotting with Matplotlib\n",
    "\n",
    "## Objectives\n",
    "- Learn to create basic line plots using Matplotlib.\n",
    "- Understand the difference between scripted and inline plotting.\n",
    "- Practice saving plots as image files.\n"
   ]
  },
  {
   "cell_type": "markdown",
   "metadata": {},
   "source": [
    "## 1. Introduction\n",
    "Line plots are one of the most fundamental ways to visualize data trends over a sequence or time. Matplotlib's `pyplot` module makes it easy to create and customize line plots.\n"
   ]
  },
  {
   "cell_type": "markdown",
   "metadata": {},
   "source": [
    "## 2. Importing Required Libraries\n",
    "Let's start by importing the necessary libraries.\n"
   ]
  },
  {
   "cell_type": "code",
   "metadata": {},
   "source": [
    "import matplotlib.pyplot as plt\n",
    "import pandas as pd\n"
   ]
  },
  {
   "cell_type": "markdown",
   "metadata": {},
   "source": [
    "## 3. Loading a Standard Dataset (Iris)\n",
    "We'll use the famous Iris dataset.\n",
    "\n",
    "[Download Iris CSV (raw)](https://raw.githubusercontent.com/uiuc-cse/data-fa14/gh-pages/data/iris.csv)\n"
   ]
  },
  {
   "cell_type": "code",
   "metadata": {},
   "source": [
    "url = 'https://raw.githubusercontent.com/uiuc-cse/data-fa14/gh-pages/data/iris.csv'\n",
    "iris = pd.read_csv(url)\n",
    "iris.head()\n"
   ]
  },
  {
   "cell_type": "markdown",
   "metadata": {},
   "source": [
    "## 4. Creating a Basic Line Plot\n",
    "Let's plot the sepal length of the first 30 samples.\n"
   ]
  },
  {
   "cell_type": "code",
   "metadata": {},
   "source": [
    "plt.plot(iris['sepal_length'][:30])\n",
    "plt.title('Sepal Length of First 30 Iris Samples')\n",
    "plt.xlabel('Sample Index')\n",
    "plt.ylabel('Sepal Length (cm)')\n",
    "plt.show()\n"
   ]
  },
  {
   "cell_type": "markdown",
   "metadata": {},
   "source": [
    "## 5. Scripted vs. Inline Plotting\n",
    "- **Scripted plotting**: Plots are generated and shown using `plt.show()`.\n",
    "- **Inline plotting**: In Jupyter, plots appear automatically after a plotting command.\n",
    "\n",
    "Try running the above cell with and without `plt.show()` to see the difference.\n"
   ]
  },
  {
   "cell_type": "markdown",
   "metadata": {},
   "source": [
    "## 6. Customizing the Plot\n",
    "Change the line style, color, and add markers.\n"
   ]
  },
  {
   "cell_type": "code",
   "metadata": {},
   "source": [
    "plt.plot(iris['sepal_length'][:30], linestyle='--', color='green', marker='o')\n",
    "plt.title('Customized Sepal Length Plot')\n",
    "plt.xlabel('Sample Index')\n",
    "plt.ylabel('Sepal Length (cm)')\n",
    "plt.show()\n"
   ]
  },
  {
   "cell_type": "markdown",
   "metadata": {},
   "source": [
    "## 7. Saving the Plot\n",
    "You can save your plot as an image file using `plt.savefig()`.\n"
   ]
  },
  {
   "cell_type": "code",
   "metadata": {},
   "source": [
    "plt.plot(iris['sepal_length'][:30], linestyle='-', color='blue', marker='x')\n",
    "plt.title('Sepal Length (Saved Plot)')\n",
    "plt.xlabel('Sample Index')\n",
    "plt.ylabel('Sepal Length (cm)')\n",
    "plt.savefig('sepal_length_plot.png')\n",
    "plt.show()\n"
   ]
  },
  {
   "cell_type": "markdown",
   "metadata": {},
   "source": [
    "## 8. Tasks\n",
    "1. Plot the sepal width for the first 30 samples.\n",
    "2. Change the color and marker style.\n",
    "3. Save your plot as a PNG file.\n"
   ]
  }
 ],
 "metadata": {
  "kernelspec": {
   "display_name": "Python 3",
   "language": "python",
   "name": "python3"
  },
  "language_info": {
   "name": "python",
   "version": "3.8"
  }
 },
 "nbformat": 4,
 "nbformat_minor": 2
}
