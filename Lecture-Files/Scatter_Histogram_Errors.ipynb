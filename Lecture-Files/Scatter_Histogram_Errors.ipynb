 {
 "cells": [
  {
   "cell_type": "markdown",
   "metadata": {},
   "source": [
    "# Scatter Plots, Error Bars, and Histograms in Matplotlib\n",
    "\n",
    "## Objectives\n",
    "- Learn to create scatter plots and add error bars.\n",
    "- Visualize distributions using histograms.\n",
    "- Practice customizing these plots for clarity.\n"
   ]
  },
  {
   "cell_type": "markdown",
   "metadata": {},
   "source": [
    "## 1. Introduction\n",
    "Scatter plots are useful for visualizing relationships between two variables. Error bars show variability, and histograms help visualize distributions.\n"
   ]
  },
  {
   "cell_type": "markdown",
   "metadata": {},
   "source": [
    "## 2. Importing Required Libraries\n"
   ]
  },
  {
   "cell_type": "code",
   "metadata": {},
   "source": [
    "import matplotlib.pyplot as plt\n",
    "import pandas as pd\n",
    "import numpy as np\n"
   ]
  },
  {
   "cell_type": "markdown",
   "metadata": {},
   "source": [
    "## 3. Loading the Iris Dataset\n",
    "[Download Iris CSV (raw)](https://raw.githubusercontent.com/uiuc-cse/data-fa14/gh-pages/data/iris.csv)\n"
   ]
  },
  {
   "cell_type": "code",
   "metadata": {},
   "source": [
    "url = 'https://raw.githubusercontent.com/uiuc-cse/data-fa14/gh-pages/data/iris.csv'\n",
    "iris = pd.read_csv(url)\n",
    "iris.head()\n"
   ]
  },
  {
   "cell_type": "markdown",
   "metadata": {},
   "source": [
    "## 4. Scatter Plot\n",
    "Let's plot sepal length vs. sepal width.\n"
   ]
  },
  {
   "cell_type": "code",
   "metadata": {},
   "source": [
    "plt.scatter(iris['sepal_length'], iris['sepal_width'], color='blue', alpha=0.6)\n",
    "plt.title('Sepal Length vs Sepal Width')\n",
    "plt.xlabel('Sepal Length (cm)')\n",
    "plt.ylabel('Sepal Width (cm)')\n",
    "plt.show()\n"
   ]
  },
  {
   "cell_type": "markdown",
   "metadata": {},
   "source": [
    "## 5. Adding Error Bars\n",
    "Suppose we have some measurement error. Let's add error bars to the sepal length.\n"
   ]
  },
  {
   "cell_type": "code",
   "metadata": {},
   "source": [
    "x = iris['sepal_length'][:20]\n",
    "y = iris['sepal_width'][:20]\n",
    "yerr = np.random.uniform(0.05, 0.2, size=20)\n",
    "plt.errorbar(x, y, yerr=yerr, fmt='o', color='green', ecolor='red', capsize=3)\n",
    "plt.title('Sepal Width with Error Bars')\n",
    "plt.xlabel('Sepal Length (cm)')\n",
    "plt.ylabel('Sepal Width (cm)')\n",
    "plt.show()\n"
   ]
  },
  {
   "cell_type": "markdown",
   "metadata": {},
   "source": [
    "## 6. Histogram\n",
    "Let's visualize the distribution of petal length.\n"
   ]
  },
  {
   "cell_type": "code",
   "metadata": {},
   "source": [
    "plt.hist(iris['petal_length'], bins=20, color='purple', edgecolor='black', alpha=0.7)\n",
    "plt.title('Distribution of Petal Length')\n",
    "plt.xlabel('Petal Length (cm)')\n",
    "plt.ylabel('Frequency')\n",
    "plt.show()\n"
   ]
  },
  {
   "cell_type": "markdown",
   "metadata": {},
   "source": [
    "## 7. Tasks\n",
    "1. Create a scatter plot for petal length vs. petal width.\n",
    "2. Add error bars to petal width (use random errors).\n",
    "3. Plot a histogram for sepal width.\n"
   ]
  }
 ],
 "metadata": {
  "kernelspec": {
   "display_name": "Python 3",
   "language": "python",
   "name": "python3"
  },
  "language_info": {
   "name": "python",
   "version": "3.8"
  }
 },
 "nbformat": 4,
 "nbformat_minor": 2
}
