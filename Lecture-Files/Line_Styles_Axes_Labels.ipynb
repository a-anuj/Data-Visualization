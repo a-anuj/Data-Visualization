{
 "cells": [
  {
   "cell_type": "markdown",
   "metadata": {},
   "source": [
    "# Customizing Line Styles, Axes, and Labels in Matplotlib\n",
    "\n",
    "## Objectives\n",
    "- Learn to customize line styles, colors, and markers.\n",
    "- Adjust axes limits and ticks.\n",
    "- Add and format axis labels and plot titles.\n"
   ]
  },
  {
   "cell_type": "markdown",
   "metadata": {},
   "source": [
    "## 1. Introduction\n",
    "Customizing plots improves clarity and aesthetics. Matplotlib provides many options to adjust line styles, axes, and labels.\n"
   ]
  },
  {
   "cell_type": "markdown",
   "metadata": {},
   "source": [
    "## 2. Importing Required Libraries\n"
   ]
  },
  {
   "cell_type": "code",
   "metadata": {},
   "source": [
    "import matplotlib.pyplot as plt\n",
    "import pandas as pd\n"
   ]
  },
  {
   "cell_type": "markdown",
   "metadata": {},
   "source": [
    "## 3. Loading the Iris Dataset\n",
    "[Download Iris CSV (raw)](https://raw.githubusercontent.com/uiuc-cse/data-fa14/gh-pages/data/iris.csv)\n"
   ]
  },
  {
   "cell_type": "code",
   "metadata": {},
   "source": [
    "url = 'https://raw.githubusercontent.com/uiuc-cse/data-fa14/gh-pages/data/iris.csv'\n",
    "iris = pd.read_csv(url)\n",
    "iris.head()\n"
   ]
  },
  {
   "cell_type": "markdown",
   "metadata": {},
   "source": [
    "## 4. Customizing Line Styles and Markers\n",
    "Let's plot sepal width for the first 30 samples with different styles.\n"
   ]
  },
  {
   "cell_type": "code",
   "metadata": {},
   "source": [
    "plt.plot(iris['sepal_width'][:30], linestyle='-.', color='purple', marker='s')\n",
    "plt.title('Sepal Width of First 30 Iris Samples')\n",
    "plt.xlabel('Sample Index')\n",
    "plt.ylabel('Sepal Width (cm)')\n",
    "plt.show()\n"
   ]
  },
  {
   "cell_type": "markdown",
   "metadata": {},
   "source": [
    "## 5. Adjusting Axes Limits and Ticks\n",
    "You can set the range of axes and customize tick marks.\n"
   ]
  },
  {
   "cell_type": "code",
   "metadata": {},
   "source": [
    "plt.plot(iris['sepal_width'][:30], linestyle='-', color='orange', marker='o')\n",
    "plt.title('Sepal Width with Custom Axes')\n",
    "plt.xlabel('Sample Index')\n",
    "plt.ylabel('Sepal Width (cm)')\n",
    "plt.xlim(0, 35)\n",
    "plt.ylim(2, 5)\n",
    "plt.xticks([0, 5, 10, 15, 20, 25, 30])\n",
    "plt.yticks([2, 2.5, 3, 3.5, 4, 4.5, 5])\n",
    "plt.show()\n"
   ]
  },
  {
   "cell_type": "markdown",
   "metadata": {},
   "source": [
    "## 6. Adding and Formatting Labels and Titles\n",
    "You can use LaTeX formatting and font options for labels and titles.\n"
   ]
  },
  {
   "cell_type": "code",
   "metadata": {},
   "source": [
    "plt.plot(iris['sepal_width'][:30], linestyle='--', color='teal', marker='^')\n",
    "plt.title('Sepal Width ($cm$)', fontsize=16, fontweight='bold')\n",
    "plt.xlabel('Sample Index', fontsize=12)\n",
    "plt.ylabel('Sepal Width (cm)', fontsize=12)\n",
    "plt.show()\n"
   ]
  },
  {
   "cell_type": "markdown",
   "metadata": {},
   "source": [
    "## 7. Tasks\n",
    "1. Plot petal length for the first 30 samples with a custom line style and marker.\n",
    "2. Set custom axes limits and ticks.\n",
    "3. Add a title and axis labels with different font sizes.\n"
   ]
  }
 ],
 "metadata": {
  "kernelspec": {
   "display_name": "Python 3",
   "language": "python",
   "name": "python3"
  },
  "language_info": {
   "name": "python",
   "version": "3.8"
  }
 },
 "nbformat": 4,
 "nbformat_minor": 2
}
 